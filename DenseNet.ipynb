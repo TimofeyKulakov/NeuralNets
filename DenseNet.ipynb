{
  "nbformat": 4,
  "nbformat_minor": 0,
  "metadata": {
    "colab": {
      "name": "DenseNet.ipynb",
      "provenance": [],
      "mount_file_id": "1p5TiDTZzGwxz63xzgM-PYUlCsq9oD2yV",
      "authorship_tag": "ABX9TyPnGWUS4Ff9+n3eVUFSITpK",
      "include_colab_link": true
    },
    "kernelspec": {
      "name": "python3",
      "display_name": "Python 3"
    },
    "accelerator": "GPU"
  },
  "cells": [
    {
      "cell_type": "markdown",
      "metadata": {
        "id": "view-in-github",
        "colab_type": "text"
      },
      "source": [
        "<a href=\"https://colab.research.google.com/github/TimofeyKulakov/NeuralNets/blob/master/DenseNet.ipynb\" target=\"_parent\"><img src=\"https://colab.research.google.com/assets/colab-badge.svg\" alt=\"Open In Colab\"/></a>"
      ]
    },
    {
      "cell_type": "code",
      "metadata": {
        "id": "UWqPEkmfsvS5",
        "colab_type": "code",
        "colab": {}
      },
      "source": [
        "import torch\n",
        "import torch.nn as nn\n",
        "import torch.nn.functional as F"
      ],
      "execution_count": null,
      "outputs": []
    },
    {
      "cell_type": "markdown",
      "metadata": {
        "id": "4uC_ZNJqthh3",
        "colab_type": "text"
      },
      "source": [
        "# Model"
      ]
    },
    {
      "cell_type": "code",
      "metadata": {
        "id": "vRgyjukmVKsN",
        "colab_type": "code",
        "colab": {}
      },
      "source": [
        "def test_module(module, test_size = (5, 3, 224, 224)):\n",
        "  test = torch.randn(test_size)\n",
        "  return module(test).shape"
      ],
      "execution_count": null,
      "outputs": []
    },
    {
      "cell_type": "code",
      "metadata": {
        "id": "DtlDHUPctaRM",
        "colab_type": "code",
        "colab": {}
      },
      "source": [
        "class Bottleneck(nn.Module):\n",
        "  def __init__(self, input_channels, growth_rate):\n",
        "    super(Bottleneck, self).__init__()\n",
        "\n",
        "    inter_channels = 4 * growth_rate\n",
        "\n",
        "    self.bn1 = nn.BatchNorm2d(input_channels)\n",
        "    self.conv1 = nn.Conv2d(input_channels, inter_channels, 1, bias= False)\n",
        "    self.bn2 = nn.BatchNorm2d(inter_channels)\n",
        "    self.conv2 = nn.Conv2d(inter_channels, growth_rate, 3, padding = 1, bias = False)\n",
        "\n",
        "  def forward(self, x):\n",
        "    out = self.conv1(F.relu(self.bn1(x)))\n",
        "    out = self.conv2(F.relu(self.bn2(out)))\n",
        "    out = torch.cat((x, out), dim = 1)\n",
        "    return out"
      ],
      "execution_count": null,
      "outputs": []
    },
    {
      "cell_type": "code",
      "metadata": {
        "id": "CXHx0wv1Qj0-",
        "colab_type": "code",
        "colab": {}
      },
      "source": [
        "class Transition(nn.Module):\n",
        "  def __init__(self, in_channels, out_channels):\n",
        "    super(Transition, self).__init__()\n",
        "\n",
        "    self.conv1 = nn.Conv2d(in_channels, out_channels, 1)\n",
        "    self.avgpool = nn.AvgPool2d((2,2), stride = 2)\n",
        "\n",
        "  def forward(self, x):\n",
        "    out = self.avgpool(self.conv1(x))\n",
        "    return out"
      ],
      "execution_count": null,
      "outputs": []
    },
    {
      "cell_type": "code",
      "metadata": {
        "id": "wIt6NG_geibN",
        "colab_type": "code",
        "colab": {}
      },
      "source": [
        "class DenseLayer(nn.Module):\n",
        "  def __init__(self, in_channels, out_channels):\n",
        "    super(DenseLayer, self).__init__()\n",
        "\n",
        "    self.bn1 = nn.BatchNorm2d(in_channels)\n",
        "    self.conv1 = nn.Conv2d(in_channels, out_channels, 3, padding = 1)\n",
        "\n",
        "  def forward(self, x):\n",
        "    out = self.bn1(x)\n",
        "    out = self.conv1(F.relu(out))\n",
        "    return out"
      ],
      "execution_count": null,
      "outputs": []
    },
    {
      "cell_type": "code",
      "metadata": {
        "id": "TP_YSGJAqkhu",
        "colab_type": "code",
        "colab": {}
      },
      "source": [
        "class DenseBlock(nn.Module):\n",
        "  def __init__(self, in_channels, growth_rate, num_layers = 4):\n",
        "    super(DenseBlock, self).__init__()\n",
        "\n",
        "    self.mod = nn.ModuleList([DenseLayer(in_channels + growth_rate * i, growth_rate) for i in range(num_layers)])\n",
        "\n",
        "  def forward(self, x):\n",
        "    outputs = [x]\n",
        "    for i, module in enumerate(self.mod):\n",
        "      if i == 0:\n",
        "        outputs.append(module(x))\n",
        "      else:\n",
        "        outputs.append(module(torch.cat(outputs, dim = 1)))\n",
        "        \n",
        "    return torch.cat(outputs, dim = 1)\n"
      ],
      "execution_count": null,
      "outputs": []
    },
    {
      "cell_type": "code",
      "metadata": {
        "id": "M09dTlUZYo0K",
        "colab_type": "code",
        "colab": {
          "base_uri": "https://localhost:8080/",
          "height": 84
        },
        "outputId": "3174d0f4-39a0-4210-cda2-ba3e936a710a"
      },
      "source": [
        "# Test modules\n",
        "print(test_module(Transition(16, 32), (5, 16, 100, 100)))\n",
        "print(test_module(Bottleneck(3, 4)))\n",
        "print(test_module(DenseLayer(3, 8)))\n",
        "print(test_module(DenseBlock(3, 4, 6)))"
      ],
      "execution_count": null,
      "outputs": [
        {
          "output_type": "stream",
          "text": [
            "torch.Size([5, 32, 50, 50])\n",
            "torch.Size([5, 7, 224, 224])\n",
            "torch.Size([5, 8, 224, 224])\n",
            "torch.Size([5, 27, 224, 224])\n"
          ],
          "name": "stdout"
        }
      ]
    },
    {
      "cell_type": "code",
      "metadata": {
        "id": "MA5tdMig3Pjd",
        "colab_type": "code",
        "colab": {}
      },
      "source": [
        "class DenseNet(nn.Module):\n",
        "  def __init__(self, in_channels, growth_rate, num_classes, dense_layers_num = [6, 12, 24, 16]):\n",
        "    super(DenseNet, self).__init__()\n",
        "\n",
        "    assert isinstance(dense_layers_num, (list, tuple)), 'dense_layers_num must be list or tuple containing numbers of dense layers in each dense block,  e.g. [2, 4, 6]'\n",
        "\n",
        "    self.conv1 = nn.Conv2d(in_channels, 2 * growth_rate, (7, 7), stride = 2, padding = 3)\n",
        "    self.maxpool1 = nn.MaxPool2d(3, stride = 2, padding = 1)\n",
        "\n",
        "    modules = []\n",
        "    for j, i in enumerate(dense_layers_num):\n",
        "      if j == 0:\n",
        "        modules += [DenseBlock(2 * growth_rate, growth_rate, i), (Transition(2 * growth_rate + i * growth_rate, growth_rate))]\n",
        "      else:\n",
        "        modules += [DenseBlock(growth_rate, growth_rate, i), (Transition(growth_rate + i * growth_rate, growth_rate))]\n",
        "\n",
        "    self.mods = nn.ModuleList(modules[:-1])\n",
        "\n",
        "    self.fc = nn.Linear(growth_rate + growth_rate * dense_layers_num[-1], num_classes)\n",
        "\n",
        "  def forward(self, x):\n",
        "    out = self.maxpool1(self.conv1(x))\n",
        "\n",
        "    for m in self.mods:\n",
        "       out = m(out)\n",
        "    out = out.mean([2, 3])\n",
        "    out = self.fc(out)\n",
        "    out = torch.softmax(out, dim = 1)\n",
        "    return out\n",
        "\n"
      ],
      "execution_count": null,
      "outputs": []
    },
    {
      "cell_type": "code",
      "metadata": {
        "id": "fVNcJs3pS-Kg",
        "colab_type": "code",
        "colab": {
          "base_uri": "https://localhost:8080/",
          "height": 34
        },
        "outputId": "8e844f51-5cf1-4375-e1fc-c4fd889dfedf"
      },
      "source": [
        "#Test net\n",
        "test_module(DenseNet(3, 32, 10))"
      ],
      "execution_count": null,
      "outputs": [
        {
          "output_type": "execute_result",
          "data": {
            "text/plain": [
              "torch.Size([5, 10])"
            ]
          },
          "metadata": {
            "tags": []
          },
          "execution_count": 10
        }
      ]
    }
  ]
}
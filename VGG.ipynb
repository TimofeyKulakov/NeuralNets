{
  "nbformat": 4,
  "nbformat_minor": 0,
  "metadata": {
    "colab": {
      "name": "VGG.ipynb",
      "provenance": [],
      "collapsed_sections": [],
      "toc_visible": true,
      "mount_file_id": "1ccB6mundWV_FZaE9u4oEyG4Sh_b5xgrV",
      "authorship_tag": "ABX9TyMpfxA7Y0roGGpOMfJqjWCv",
      "include_colab_link": true
    },
    "kernelspec": {
      "name": "python3",
      "display_name": "Python 3"
    },
    "accelerator": "GPU"
  },
  "cells": [
    {
      "cell_type": "markdown",
      "metadata": {
        "id": "view-in-github",
        "colab_type": "text"
      },
      "source": [
        "<a href=\"https://colab.research.google.com/github/TimofeyKulakov/NeuralNets/blob/master/VGG.ipynb\" target=\"_parent\"><img src=\"https://colab.research.google.com/assets/colab-badge.svg\" alt=\"Open In Colab\"/></a>"
      ]
    },
    {
      "cell_type": "code",
      "metadata": {
        "id": "j9mHBwDTY1Bs",
        "colab_type": "code",
        "colab": {}
      },
      "source": [
        "import torch\n",
        "import torch.nn as nn\n",
        "import numpy as np\n",
        "import torch.nn.functional as F"
      ],
      "execution_count": null,
      "outputs": []
    },
    {
      "cell_type": "markdown",
      "metadata": {
        "id": "TWEelLu3Y-NG",
        "colab_type": "text"
      },
      "source": [
        "# Model"
      ]
    },
    {
      "cell_type": "code",
      "metadata": {
        "id": "Tz3iLjZNoTth",
        "colab_type": "code",
        "colab": {}
      },
      "source": [
        "def test_module(module, size = (1, 3, 224, 224)):\n",
        "  test = torch.randn(size)\n",
        "  print(module.forward(test).shape)"
      ],
      "execution_count": null,
      "outputs": []
    },
    {
      "cell_type": "code",
      "metadata": {
        "id": "cC2_18JWY8wl",
        "colab_type": "code",
        "colab": {}
      },
      "source": [
        "class conv_layer(nn.Module):\n",
        "  def __init__(self, in_channels, out_channels, num_convs, add1dconv = False):\n",
        "    super(conv_layer, self).__init__()\n",
        "  \n",
        "    self.mods = nn.ModuleList(\n",
        "      [j for i in range(num_convs) for j in [nn.Conv2d(in_channels if i == 0 else out_channels, out_channels, \n",
        "                                                       kernel_size = 1 if ((add1dconv==True) & (i==num_convs-1)) else 3,\n",
        "                                                       stride = 1,  \n",
        "                                                       padding = 0 if ((add1dconv==True) & (i==num_convs-1)) else 1), nn.BatchNorm2d(out_channels), nn.ReLU()]]\n",
        "        )\n",
        "    self.pool = nn.MaxPool2d(2, stride = 2)\n",
        "  \n",
        "  def forward(self, x):\n",
        "    for m in self.mods:\n",
        "      x = m(x)\n",
        "    return self.pool(x)"
      ],
      "execution_count": null,
      "outputs": []
    },
    {
      "cell_type": "code",
      "metadata": {
        "id": "0JObzZhip-1A",
        "colab_type": "code",
        "colab": {}
      },
      "source": [
        "class VGG(nn.Module):\n",
        "  def __init__(self, n_classes, in_channels = 3, n_convs_list = [1, 1, 2, 2, 2], out_channels = [64, 128, 256, 512, 512], conv1_layers_idxs = []):\n",
        "    super(VGG, self).__init__()\n",
        "\n",
        "    self.mods = nn.ModuleList(\n",
        "    [conv_layer(3 if k == 0 else out_channels[k - 1], i, n, k in conv1_layers_idxs)  for k, (i, n) in enumerate(zip(out_channels, n_convs_list))]\n",
        "    )\n",
        "    \n",
        "    self.ff = nn.Sequential(\n",
        "       nn.Flatten(),\n",
        "       nn.Linear((224 // (2**len(n_convs_list))) * (224 // (2**len(n_convs_list))) * out_channels[-1], 4096),\n",
        "       nn.ReLU(),\n",
        "       nn.Dropout(0.5),\n",
        "       nn.Linear(4096, 4096),\n",
        "       nn.ReLU(),\n",
        "       nn.Dropout(0.5),\n",
        "       nn.Linear(4096, n_classes),\n",
        "    )\n",
        "\n",
        "  def forward(self, x):\n",
        "    if not ((x.shape[2], x.shape[3]) == (224, 224)):\n",
        "      x = F.interpolate(x, size=(224, 224), mode='bilinear')\n",
        "\n",
        "    for m in self.mods:\n",
        "      x = m(x)\n",
        "    \n",
        "    return self.ff(x)\n"
      ],
      "execution_count": null,
      "outputs": []
    },
    {
      "cell_type": "code",
      "metadata": {
        "id": "9whcPLqnzxKb",
        "colab_type": "code",
        "colab": {
          "base_uri": "https://localhost:8080/",
          "height": 1000
        },
        "outputId": "c8fb4547-6bcc-45ae-98c4-a88ffbeab0fd"
      },
      "source": [
        "VGG(6, 3, [2,2,3,3,3], conv1_layers_idxs=[2,3,4])"
      ],
      "execution_count": null,
      "outputs": [
        {
          "output_type": "execute_result",
          "data": {
            "text/plain": [
              "VGG(\n",
              "  (mods): ModuleList(\n",
              "    (0): conv_layer(\n",
              "      (mods): ModuleList(\n",
              "        (0): Conv2d(3, 64, kernel_size=(3, 3), stride=(1, 1), padding=(1, 1))\n",
              "        (1): BatchNorm2d(64, eps=1e-05, momentum=0.1, affine=True, track_running_stats=True)\n",
              "        (2): ReLU()\n",
              "        (3): Conv2d(64, 64, kernel_size=(3, 3), stride=(1, 1), padding=(1, 1))\n",
              "        (4): BatchNorm2d(64, eps=1e-05, momentum=0.1, affine=True, track_running_stats=True)\n",
              "        (5): ReLU()\n",
              "      )\n",
              "      (pool): MaxPool2d(kernel_size=2, stride=2, padding=0, dilation=1, ceil_mode=False)\n",
              "    )\n",
              "    (1): conv_layer(\n",
              "      (mods): ModuleList(\n",
              "        (0): Conv2d(64, 128, kernel_size=(3, 3), stride=(1, 1), padding=(1, 1))\n",
              "        (1): BatchNorm2d(128, eps=1e-05, momentum=0.1, affine=True, track_running_stats=True)\n",
              "        (2): ReLU()\n",
              "        (3): Conv2d(128, 128, kernel_size=(3, 3), stride=(1, 1), padding=(1, 1))\n",
              "        (4): BatchNorm2d(128, eps=1e-05, momentum=0.1, affine=True, track_running_stats=True)\n",
              "        (5): ReLU()\n",
              "      )\n",
              "      (pool): MaxPool2d(kernel_size=2, stride=2, padding=0, dilation=1, ceil_mode=False)\n",
              "    )\n",
              "    (2): conv_layer(\n",
              "      (mods): ModuleList(\n",
              "        (0): Conv2d(128, 256, kernel_size=(3, 3), stride=(1, 1), padding=(1, 1))\n",
              "        (1): BatchNorm2d(256, eps=1e-05, momentum=0.1, affine=True, track_running_stats=True)\n",
              "        (2): ReLU()\n",
              "        (3): Conv2d(256, 256, kernel_size=(3, 3), stride=(1, 1), padding=(1, 1))\n",
              "        (4): BatchNorm2d(256, eps=1e-05, momentum=0.1, affine=True, track_running_stats=True)\n",
              "        (5): ReLU()\n",
              "        (6): Conv2d(256, 256, kernel_size=(1, 1), stride=(1, 1))\n",
              "        (7): BatchNorm2d(256, eps=1e-05, momentum=0.1, affine=True, track_running_stats=True)\n",
              "        (8): ReLU()\n",
              "      )\n",
              "      (pool): MaxPool2d(kernel_size=2, stride=2, padding=0, dilation=1, ceil_mode=False)\n",
              "    )\n",
              "    (3): conv_layer(\n",
              "      (mods): ModuleList(\n",
              "        (0): Conv2d(256, 512, kernel_size=(3, 3), stride=(1, 1), padding=(1, 1))\n",
              "        (1): BatchNorm2d(512, eps=1e-05, momentum=0.1, affine=True, track_running_stats=True)\n",
              "        (2): ReLU()\n",
              "        (3): Conv2d(512, 512, kernel_size=(3, 3), stride=(1, 1), padding=(1, 1))\n",
              "        (4): BatchNorm2d(512, eps=1e-05, momentum=0.1, affine=True, track_running_stats=True)\n",
              "        (5): ReLU()\n",
              "        (6): Conv2d(512, 512, kernel_size=(1, 1), stride=(1, 1))\n",
              "        (7): BatchNorm2d(512, eps=1e-05, momentum=0.1, affine=True, track_running_stats=True)\n",
              "        (8): ReLU()\n",
              "      )\n",
              "      (pool): MaxPool2d(kernel_size=2, stride=2, padding=0, dilation=1, ceil_mode=False)\n",
              "    )\n",
              "    (4): conv_layer(\n",
              "      (mods): ModuleList(\n",
              "        (0): Conv2d(512, 512, kernel_size=(3, 3), stride=(1, 1), padding=(1, 1))\n",
              "        (1): BatchNorm2d(512, eps=1e-05, momentum=0.1, affine=True, track_running_stats=True)\n",
              "        (2): ReLU()\n",
              "        (3): Conv2d(512, 512, kernel_size=(3, 3), stride=(1, 1), padding=(1, 1))\n",
              "        (4): BatchNorm2d(512, eps=1e-05, momentum=0.1, affine=True, track_running_stats=True)\n",
              "        (5): ReLU()\n",
              "        (6): Conv2d(512, 512, kernel_size=(1, 1), stride=(1, 1))\n",
              "        (7): BatchNorm2d(512, eps=1e-05, momentum=0.1, affine=True, track_running_stats=True)\n",
              "        (8): ReLU()\n",
              "      )\n",
              "      (pool): MaxPool2d(kernel_size=2, stride=2, padding=0, dilation=1, ceil_mode=False)\n",
              "    )\n",
              "  )\n",
              "  (ff): Sequential(\n",
              "    (0): Flatten()\n",
              "    (1): Linear(in_features=25088, out_features=4096, bias=True)\n",
              "    (2): ReLU()\n",
              "    (3): Dropout(p=0.5, inplace=False)\n",
              "    (4): Linear(in_features=4096, out_features=4096, bias=True)\n",
              "    (5): ReLU()\n",
              "    (6): Dropout(p=0.5, inplace=False)\n",
              "    (7): Linear(in_features=4096, out_features=6, bias=True)\n",
              "  )\n",
              ")"
            ]
          },
          "metadata": {
            "tags": []
          },
          "execution_count": 6
        }
      ]
    },
    {
      "cell_type": "code",
      "metadata": {
        "id": "W9tZpuzeGUP6",
        "colab_type": "code",
        "colab": {
          "base_uri": "https://localhost:8080/",
          "height": 34
        },
        "outputId": "810f257f-5eb4-48cf-f657-598f102aa796"
      },
      "source": [
        "test_module(VGG(1000, 3, [2,2,3,3,3], conv1_layers_idxs=[2,3,4]))"
      ],
      "execution_count": null,
      "outputs": [
        {
          "output_type": "stream",
          "text": [
            "torch.Size([1, 1000])\n"
          ],
          "name": "stdout"
        }
      ]
    }
  ]
}
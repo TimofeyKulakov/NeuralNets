{
  "nbformat": 4,
  "nbformat_minor": 0,
  "metadata": {
    "colab": {
      "name": "Unet_with_unpooling.ipynb",
      "provenance": [],
      "authorship_tag": "ABX9TyMF3883wBQMO1FkC3loabAc",
      "include_colab_link": true
    },
    "kernelspec": {
      "name": "python3",
      "display_name": "Python 3"
    }
  },
  "cells": [
    {
      "cell_type": "markdown",
      "metadata": {
        "id": "view-in-github",
        "colab_type": "text"
      },
      "source": [
        "<a href=\"https://colab.research.google.com/github/TimofeyKulakov/NeuralNets/blob/master/Unet_with_unpooling.ipynb\" target=\"_parent\"><img src=\"https://colab.research.google.com/assets/colab-badge.svg\" alt=\"Open In Colab\"/></a>"
      ]
    },
    {
      "cell_type": "code",
      "metadata": {
        "id": "ppzNtdQO9y80",
        "colab_type": "code",
        "colab": {}
      },
      "source": [
        "import torch\n",
        "import torch.nn as nn\n"
      ],
      "execution_count": null,
      "outputs": []
    },
    {
      "cell_type": "markdown",
      "metadata": {
        "id": "tCBadEYX9_18",
        "colab_type": "text"
      },
      "source": [
        "#Model"
      ]
    },
    {
      "cell_type": "code",
      "metadata": {
        "id": "bP1C8dz8-ksL",
        "colab_type": "code",
        "colab": {}
      },
      "source": [
        "def test_module(module, size = (1, 3, 224, 224)):\n",
        "  test = torch.randn(size)\n",
        "  print(module.forward(test).shape)"
      ],
      "execution_count": null,
      "outputs": []
    },
    {
      "cell_type": "code",
      "metadata": {
        "id": "TwDjRkcK99-9",
        "colab_type": "code",
        "colab": {}
      },
      "source": [
        "class DownBlock(nn.Module):\n",
        "  def __init__(self, in_channels, out_channels):\n",
        "    super(DownBlock, self).__init__()\n",
        "\n",
        "    self.block = nn.Sequential(\n",
        "             nn.Conv2d(in_channels, out_channels, kernel_size=3, padding=1),\n",
        "             nn.ReLU(),\n",
        "             nn.Conv2d(out_channels, out_channels, kernel_size=3, padding=1),\n",
        "             nn.ReLU(),\n",
        "         )\n",
        "    self.maxpool = nn.MaxPool2d(2, return_indices=True)\n",
        "\n",
        "  def forward(self, x):\n",
        "\n",
        "    out_before = self.block(x)\n",
        "    out_after, mask = self.maxpool(out_before)\n",
        "\n",
        "    return out_after, out_before, mask"
      ],
      "execution_count": null,
      "outputs": []
    },
    {
      "cell_type": "code",
      "metadata": {
        "id": "6T2L4_NJ-Ect",
        "colab_type": "code",
        "colab": {}
      },
      "source": [
        "class UpBlock(nn.Module):\n",
        "  def __init__(self, in_channels, out_channels):\n",
        "    super(UpBlock, self).__init__()\n",
        "\n",
        "    self.unpool = nn.MaxUnpool2d(2)\n",
        "\n",
        "    self.convs = nn.Sequential(\n",
        "            nn.Conv2d(in_channels * 2, out_channels, kernel_size=3, padding=1),\n",
        "            nn.ReLU(),\n",
        "            nn.Conv2d(out_channels, out_channels, kernel_size=3, padding=1),\n",
        "            nn.ReLU(),\n",
        "        )\n",
        "\n",
        "  def forward(self, x, x_skipped, mask):\n",
        "\n",
        "    x_up = self.unpool(x, mask, x_skipped.shape)\n",
        "    x = torch.cat([x_up, x_skipped], dim = 1)\n",
        "    out = self.convs(x)\n",
        "\n",
        "    return out"
      ],
      "execution_count": null,
      "outputs": []
    },
    {
      "cell_type": "code",
      "metadata": {
        "id": "QisxcIN_9-po",
        "colab_type": "code",
        "colab": {}
      },
      "source": [
        "class Unet(nn.Module):\n",
        "  def __init__(self, n_in_channels, n_base_channels, n_blocks):\n",
        "    super(Unet, self).__init__()\n",
        "\n",
        "    self.down = nn.ModuleList(\n",
        "    [DownBlock(n_in_channels if i == 1 else n_base_channels * 2**(i-2), n_base_channels * (2**(i-1)) if i != (n_blocks) else n_base_channels * (2**(i-2))) \n",
        "    for i in range(1, n_blocks + 1)]\n",
        "    )\n",
        "\n",
        "\n",
        "    self.up = nn.ModuleList(\n",
        "    [UpBlock(n_base_channels * (2**i), n_base_channels * (2**(i-1)) if i != 0 else n_base_channels * (2**i)) for i in range(n_blocks - 2, -1, -1)]\n",
        "    )\n",
        "\n",
        "    self.final_block = nn.Sequential(\n",
        "             nn.Conv2d(n_base_channels, 1, kernel_size=3, padding=1),\n",
        "             nn.Sigmoid()\n",
        "    )\n",
        "\n",
        "    self.initialize_weights()\n",
        "\n",
        "  def forward(self, x):\n",
        "    out = x\n",
        "    outputs_bp = []\n",
        "    masks = []\n",
        "\n",
        "    for i, block in enumerate(self.down):\n",
        "            out, before_pooling, mask = block(out)\n",
        "            outputs_bp.append(before_pooling)\n",
        "            masks.append(mask)\n",
        "\n",
        "    out = before_pooling\n",
        "        \n",
        "    for i, block in enumerate(self.up):  \n",
        "            out = block(out, outputs_bp[-i - 2], masks[-i - 2])\n",
        "\n",
        "    out = self.final_block(out)\n",
        "\n",
        "    return out\n",
        "\n",
        "  def initialize_weights(self):\n",
        "        for m in self.modules():\n",
        "            if isinstance(m, nn.Conv2d):\n",
        "\n",
        "                nn.init.kaiming_uniform_(m.weight)\n",
        "                \n",
        "                if m.bias is not None:\n",
        "                    nn.init.constant_(m.bias, 0)"
      ],
      "execution_count": null,
      "outputs": []
    },
    {
      "cell_type": "code",
      "metadata": {
        "id": "QQbIFoDi-WuC",
        "colab_type": "code",
        "colab": {}
      },
      "source": [
        "unet = Unet(3, 16, 5)"
      ],
      "execution_count": null,
      "outputs": []
    },
    {
      "cell_type": "code",
      "metadata": {
        "id": "dAv1Q85y-2LC",
        "colab_type": "code",
        "colab": {
          "base_uri": "https://localhost:8080/",
          "height": 34
        },
        "outputId": "de541a69-500c-4c77-f410-31d57334aa88"
      },
      "source": [
        "test_module(unet)"
      ],
      "execution_count": null,
      "outputs": [
        {
          "output_type": "stream",
          "text": [
            "torch.Size([1, 1, 224, 224])\n"
          ],
          "name": "stdout"
        }
      ]
    }
  ]
}